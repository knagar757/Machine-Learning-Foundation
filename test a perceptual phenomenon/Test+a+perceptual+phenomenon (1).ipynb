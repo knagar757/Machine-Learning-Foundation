{
 "cells": [
  {
   "cell_type": "markdown",
   "metadata": {},
   "source": [
    "<h1><center>Project: Test A Perceptual Phenomenon</center></h1>\n",
    "<h2>Project Overview</h2>\n",
    "  <p>\n",
    "  In this project, you will investigate a classic phenomenon from experimental psychology called the \n",
    "  [Stroop Effect](https://en.wikipedia.org/wiki/Stroop_effect). You will learn a little bit about the experiment, create\n",
    "  a hypothesis regarding the outcome of the task, then go through the task yourself. You will then look at some \n",
    "  data collected from others who have performed the same task and will compute some statistics describing the results. \n",
    "  Finally, you will interpret your results in terms of your hypotheses.\n",
    "  </p>\n",
    "<h2>Why this project?</h2>\n",
    "   <p> \n",
    "   Statistics is a major component of data analysis, it allows you to investigate data and make inferences based on \n",
    "   your observations. A foundation in statistics also allows you to be a consumer of analyses that others perform, \n",
    "   and allows you to relate to the conclusions others have drawn from their investigations.\n",
    "   </p>\n",
    "<h2>What will I Learn?</h2>\n",
    "   <p>\n",
    "   This project will review the basic concepts of statistics, including:\n",
    "     <li> How to identify components of an experiment</li>\n",
    "     <li> How to use descriptive statistics to describe qualities of a sample</li>\n",
    "     <li> How to set up a hypothesis test, make inferences from a sample, and draw conclusions based on the results</li>\n",
    "   </p>\n",
    "   \n",
    "<h1 style=\"color:blue;\">Statistics: The Science Of Decisions</h1>\n",
    "<h2 style=\"color:blue;\">Project Instructions</h2>\n",
    "   \n",
    "<h3 style=\"color:blue;\">Background Information</h3>\n",
    "       <p> \n",
    "       In a Stroop task, participants are presented with a list of words, with each word displayed in a color of \n",
    "       ink. The participant’s task is to say out loud the color of the ink in which the word is printed. The task has \n",
    "       two conditions: a congruent words condition, and an incongruent words condition. In the congruent words \n",
    "       condition, the words being displayed are color words whose names match the colors in which they are printed: \n",
    "       for example <span style=\"color: red\">RED</span>, <span style=\"color: blue\">BLUE</span>. In the incongruent \n",
    "       words condition, the words displayed are color words whose names do not match the colors in which they are \n",
    "       printed: for example <span style=\"color: green\">PURPLE</span>, <span style=\"color: blue\">ORANGE</span>. In \n",
    "       each case, we measure the time it takes to name the ink colors in equally-sized lists. Each participant will \n",
    "       go through and record a time from each condition.\n",
    "       </p>\n",
    "       \n",
    "**Congruent Condition**:\n",
    "  ![alt text](https://faculty.washington.edu/chudler/java/stroopa.gif)\n",
    "**Incongruent Condition**:\n",
    "  ![alt text](https://faculty.washington.edu/chudler/java/stroopb.gif)\n",
    "  \n",
    "  <p>\n",
    "  Now it’s your chance to try out the Stroop task for yourself. Go to \n",
    "  [this link](https://faculty.washington.edu/chudler/java/ready.html), which has a Java-based applet for performing \n",
    "  the Stroop task. Record the times that you received on the task (you do not need to submit your times to the site.) \n",
    "  Now, download [this dataset](stroopdata.csv) which contains results from a number of participants in the task. Each row \n",
    "  of the dataset contains the performance for one participant, with the first number their results on the congruent task and \n",
    "  the second number their performance on the incongruent task.\n",
    "  </p>\n",
    "  "
   ]
  },
  {
   "cell_type": "code",
   "execution_count": 2,
   "metadata": {
    "collapsed": true
   },
   "outputs": [],
   "source": [
    "import numpy as np # use for calculate statistics\n",
    "import pandas as pd # use for import dataset and calculate statistics\n",
    "import seaborn as sns # use for statistical visualizations\n",
    "import matplotlib.pyplot as plt # use for basic plots"
   ]
  },
  {
   "cell_type": "code",
   "execution_count": 4,
   "metadata": {
    "scrolled": true
   },
   "outputs": [
    {
     "name": "stdout",
     "output_type": "stream",
     "text": [
      "sample size n =24\n"
     ]
    },
    {
     "data": {
      "text/html": [
       "<div>\n",
       "<style scoped>\n",
       "    .dataframe tbody tr th:only-of-type {\n",
       "        vertical-align: middle;\n",
       "    }\n",
       "\n",
       "    .dataframe tbody tr th {\n",
       "        vertical-align: top;\n",
       "    }\n",
       "\n",
       "    .dataframe thead th {\n",
       "        text-align: right;\n",
       "    }\n",
       "</style>\n",
       "<table border=\"1\" class=\"dataframe\">\n",
       "  <thead>\n",
       "    <tr style=\"text-align: right;\">\n",
       "      <th></th>\n",
       "      <th>Congruent</th>\n",
       "      <th>Incongruent</th>\n",
       "    </tr>\n",
       "  </thead>\n",
       "  <tbody>\n",
       "    <tr>\n",
       "      <th>0</th>\n",
       "      <td>12.079</td>\n",
       "      <td>19.278</td>\n",
       "    </tr>\n",
       "    <tr>\n",
       "      <th>1</th>\n",
       "      <td>16.791</td>\n",
       "      <td>18.741</td>\n",
       "    </tr>\n",
       "    <tr>\n",
       "      <th>2</th>\n",
       "      <td>9.564</td>\n",
       "      <td>21.214</td>\n",
       "    </tr>\n",
       "    <tr>\n",
       "      <th>3</th>\n",
       "      <td>8.630</td>\n",
       "      <td>15.687</td>\n",
       "    </tr>\n",
       "    <tr>\n",
       "      <th>4</th>\n",
       "      <td>14.669</td>\n",
       "      <td>22.803</td>\n",
       "    </tr>\n",
       "    <tr>\n",
       "      <th>5</th>\n",
       "      <td>12.238</td>\n",
       "      <td>20.878</td>\n",
       "    </tr>\n",
       "    <tr>\n",
       "      <th>6</th>\n",
       "      <td>14.692</td>\n",
       "      <td>24.572</td>\n",
       "    </tr>\n",
       "    <tr>\n",
       "      <th>7</th>\n",
       "      <td>8.987</td>\n",
       "      <td>17.394</td>\n",
       "    </tr>\n",
       "    <tr>\n",
       "      <th>8</th>\n",
       "      <td>9.401</td>\n",
       "      <td>20.762</td>\n",
       "    </tr>\n",
       "    <tr>\n",
       "      <th>9</th>\n",
       "      <td>14.480</td>\n",
       "      <td>26.282</td>\n",
       "    </tr>\n",
       "    <tr>\n",
       "      <th>10</th>\n",
       "      <td>22.328</td>\n",
       "      <td>24.524</td>\n",
       "    </tr>\n",
       "    <tr>\n",
       "      <th>11</th>\n",
       "      <td>15.298</td>\n",
       "      <td>18.644</td>\n",
       "    </tr>\n",
       "    <tr>\n",
       "      <th>12</th>\n",
       "      <td>15.073</td>\n",
       "      <td>17.510</td>\n",
       "    </tr>\n",
       "    <tr>\n",
       "      <th>13</th>\n",
       "      <td>16.929</td>\n",
       "      <td>20.330</td>\n",
       "    </tr>\n",
       "    <tr>\n",
       "      <th>14</th>\n",
       "      <td>18.200</td>\n",
       "      <td>35.255</td>\n",
       "    </tr>\n",
       "    <tr>\n",
       "      <th>15</th>\n",
       "      <td>12.130</td>\n",
       "      <td>22.158</td>\n",
       "    </tr>\n",
       "    <tr>\n",
       "      <th>16</th>\n",
       "      <td>18.495</td>\n",
       "      <td>25.139</td>\n",
       "    </tr>\n",
       "    <tr>\n",
       "      <th>17</th>\n",
       "      <td>10.639</td>\n",
       "      <td>20.429</td>\n",
       "    </tr>\n",
       "    <tr>\n",
       "      <th>18</th>\n",
       "      <td>11.344</td>\n",
       "      <td>17.425</td>\n",
       "    </tr>\n",
       "    <tr>\n",
       "      <th>19</th>\n",
       "      <td>12.369</td>\n",
       "      <td>34.288</td>\n",
       "    </tr>\n",
       "    <tr>\n",
       "      <th>20</th>\n",
       "      <td>12.944</td>\n",
       "      <td>23.894</td>\n",
       "    </tr>\n",
       "    <tr>\n",
       "      <th>21</th>\n",
       "      <td>14.233</td>\n",
       "      <td>17.960</td>\n",
       "    </tr>\n",
       "    <tr>\n",
       "      <th>22</th>\n",
       "      <td>19.710</td>\n",
       "      <td>22.058</td>\n",
       "    </tr>\n",
       "    <tr>\n",
       "      <th>23</th>\n",
       "      <td>16.004</td>\n",
       "      <td>21.157</td>\n",
       "    </tr>\n",
       "  </tbody>\n",
       "</table>\n",
       "</div>"
      ],
      "text/plain": [
       "    Congruent  Incongruent\n",
       "0      12.079       19.278\n",
       "1      16.791       18.741\n",
       "2       9.564       21.214\n",
       "3       8.630       15.687\n",
       "4      14.669       22.803\n",
       "5      12.238       20.878\n",
       "6      14.692       24.572\n",
       "7       8.987       17.394\n",
       "8       9.401       20.762\n",
       "9      14.480       26.282\n",
       "10     22.328       24.524\n",
       "11     15.298       18.644\n",
       "12     15.073       17.510\n",
       "13     16.929       20.330\n",
       "14     18.200       35.255\n",
       "15     12.130       22.158\n",
       "16     18.495       25.139\n",
       "17     10.639       20.429\n",
       "18     11.344       17.425\n",
       "19     12.369       34.288\n",
       "20     12.944       23.894\n",
       "21     14.233       17.960\n",
       "22     19.710       22.058\n",
       "23     16.004       21.157"
      ]
     },
     "execution_count": 4,
     "metadata": {},
     "output_type": "execute_result"
    }
   ],
   "source": [
    "# import the csv file\n",
    "df = pd.read_csv('stroopdata.csv')\n",
    "print('sample size n ={}'.format(len(df)))\n",
    "df"
   ]
  },
  {
   "cell_type": "markdown",
   "metadata": {},
   "source": [
    "Dataframe have two column Congruent and Incongruent, these two are the conditions of the stroop test and observations in theses columns are time taken(in second) to read the words in each situation."
   ]
  },
  {
   "cell_type": "markdown",
   "metadata": {},
   "source": [
    "**Question 1**. ***What is our independent variable? What is our dependent variable?***\n",
    "\n",
    "**Answer**.\n",
    "\n",
    ">***Independent*** variable: Congruent and Incongruent conditions\n",
    "\n",
    ">***Dependent*** variable: time taken to read the words in same list of these conditions\n"
   ]
  },
  {
   "cell_type": "markdown",
   "metadata": {},
   "source": [
    "**Question 2**. ***What is an appropriate set of hypotheses for this task? What kind of statistical test do you expect to perform? Justify your choices.***\n",
    "\n",
    "**Answer**: \n",
    "\n",
    ">***Null Hupothesis***  There is no change in time taken to read the  words in both conditions.\n",
    "\n",
    ">$H_0$ : $\\mu_i - \\mu_c$ = 0\n",
    "\n",
    ">***Alternative Hypothesis*** There is some change in time taken to read the words in both conditions.\n",
    "\n",
    ">$H_A$ :$\\mu_i - \\mu_c \\neq 0$\n",
    "\n",
    "**here**: \n",
    ">$\\mu_i$ --> average time taken to read the words in **`Incongruent`** condition\n",
    "\n",
    ">$\\mu_c$ --> average time taken to read the words in **`Congruent`** condition\n",
    "\n",
    ">sample size $n = 24$\n",
    "\n",
    "\n",
    "Here we dont know about the population parameter like standard daviation ($\\sigma$), so i can't use here z-test.\n",
    "\n",
    "\n",
    "The paired t-test calculates the difference within each before-and-after pair of measurements, determines the mean of these changes, and reports whether this mean of the differences is statistically significant.both the sample are normaly distributed which is shown below in visualization. and the difference of the both the condition also normally distributed but here the sample size is less so its not look like a perfect normally distributed. both the conditions are affect the each other, both the sample are dependent, because when a person first read the words in congruent condition and after that same person read the words in incongruent condition, person can get little confused. so we can say both the sample are dependent. \n",
    "Assumption is that the samples are taken randomly and difference time in both the condition are normaly distributed.\n",
    "\n",
    "so, Here i will perform ***Dependent t-test for pair sample*** because here one person having two conditions `congruent` and `incongruent`, so it is a Dependent t-test type of problem.\n",
    "I will use **two tailed t-test** at alpha level $\\alpha = 0.05$, because distribution of difference is normal distribution and we want to know only there is significant difference or not, so we take both the condition either positive or negative direction. \n"
   ]
  },
  {
   "cell_type": "markdown",
   "metadata": {},
   "source": [
    "### Important Formula's used in this notebook ###\n",
    "> mean $$\\mu_D = \\sum_{i=1}^n \\frac{1}{n}x_i$$\n",
    "> sample standard daviation $$ SD_D = \\sqrt\\frac{\\sum_{1=1}^n {(x_i - \\mu_D)^2}}{n-1}$$\n",
    "> degree of freedom $$df = (n-1)$$\n",
    "> Standard Error $$SE= \\frac{SD_D}{\\sqrt n}$$\n",
    "> t-statistics $$t = \\frac{\\mu_i - \\mu_c}{SE}$$"
   ]
  },
  {
   "cell_type": "markdown",
   "metadata": {},
   "source": [
    "**Question 3**.  ***Report some descriptive statistics regarding this dataset. Include at least one measure of central tendency and at least one measure of variability.***\n",
    "\n",
    "**Answer**:\n",
    ">sample size $n=24$,\n",
    ">  degree of freedom $df = 23$\n",
    " \n",
    "> $\\mu_c = 14.051$,\n",
    "> $ \\mu_i = 22.016$,\n",
    "> $ \\mu_D = 7.965$,\n",
    "> $ SD_D = 4.865$\n",
    "\n"
   ]
  },
  {
   "cell_type": "code",
   "execution_count": 104,
   "metadata": {},
   "outputs": [
    {
     "name": "stdout",
     "output_type": "stream",
     "text": [
      "sample size n = 24\n",
      "degree of freedom dof = 23\n"
     ]
    }
   ],
   "source": [
    "#sample size and degree of freedom\n",
    "n = len(df) #sample size\n",
    "dof = n-1 # degree of freedom\n",
    "print('sample size n = {}\\ndegree of freedom dof = {}'.format(n,dof))"
   ]
  },
  {
   "cell_type": "code",
   "execution_count": 101,
   "metadata": {},
   "outputs": [
    {
     "name": "stdout",
     "output_type": "stream",
     "text": [
      "average time for Congruent: 14.051\n",
      "average time for Incongruent: 22.016\n"
     ]
    }
   ],
   "source": [
    "# find the average time taken to read the words in both condition\n",
    "mu_c = df['Congruent'].mean() \n",
    "mu_c =round(mu_c,3) # round up the mean up to 3 decimal\n",
    "\n",
    "mu_i = df['Incongruent'].mean()\n",
    "mu_i = round(mu_i,3)\n",
    "\n",
    "print('average time for Congruent: {}\\naverage time for Incongruent: {}'.format(mu_c, mu_i))"
   ]
  },
  {
   "cell_type": "code",
   "execution_count": 9,
   "metadata": {},
   "outputs": [
    {
     "data": {
      "text/html": [
       "<div>\n",
       "<style scoped>\n",
       "    .dataframe tbody tr th:only-of-type {\n",
       "        vertical-align: middle;\n",
       "    }\n",
       "\n",
       "    .dataframe tbody tr th {\n",
       "        vertical-align: top;\n",
       "    }\n",
       "\n",
       "    .dataframe thead th {\n",
       "        text-align: right;\n",
       "    }\n",
       "</style>\n",
       "<table border=\"1\" class=\"dataframe\">\n",
       "  <thead>\n",
       "    <tr style=\"text-align: right;\">\n",
       "      <th></th>\n",
       "      <th>Congruent</th>\n",
       "      <th>Incongruent</th>\n",
       "      <th>Difference</th>\n",
       "    </tr>\n",
       "  </thead>\n",
       "  <tbody>\n",
       "    <tr>\n",
       "      <th>0</th>\n",
       "      <td>12.079</td>\n",
       "      <td>19.278</td>\n",
       "      <td>7.199</td>\n",
       "    </tr>\n",
       "    <tr>\n",
       "      <th>1</th>\n",
       "      <td>16.791</td>\n",
       "      <td>18.741</td>\n",
       "      <td>1.950</td>\n",
       "    </tr>\n",
       "    <tr>\n",
       "      <th>2</th>\n",
       "      <td>9.564</td>\n",
       "      <td>21.214</td>\n",
       "      <td>11.650</td>\n",
       "    </tr>\n",
       "    <tr>\n",
       "      <th>3</th>\n",
       "      <td>8.630</td>\n",
       "      <td>15.687</td>\n",
       "      <td>7.057</td>\n",
       "    </tr>\n",
       "    <tr>\n",
       "      <th>4</th>\n",
       "      <td>14.669</td>\n",
       "      <td>22.803</td>\n",
       "      <td>8.134</td>\n",
       "    </tr>\n",
       "  </tbody>\n",
       "</table>\n",
       "</div>"
      ],
      "text/plain": [
       "   Congruent  Incongruent  Difference\n",
       "0     12.079       19.278       7.199\n",
       "1     16.791       18.741       1.950\n",
       "2      9.564       21.214      11.650\n",
       "3      8.630       15.687       7.057\n",
       "4     14.669       22.803       8.134"
      ]
     },
     "execution_count": 9,
     "metadata": {},
     "output_type": "execute_result"
    }
   ],
   "source": [
    "#find the difference and calculate the mean\n",
    "df['Difference'] = df['Incongruent'] - df['Congruent']\n",
    "df.head()"
   ]
  },
  {
   "cell_type": "code",
   "execution_count": 16,
   "metadata": {},
   "outputs": [
    {
     "name": "stdout",
     "output_type": "stream",
     "text": [
      "mean of difference: 7.965\n",
      "Standard Daviation of difference: 4.865\n"
     ]
    }
   ],
   "source": [
    "# mean of difference and standard daviation of differences\n",
    "mu_D = df['Difference'].mean()\n",
    "mu_D = round(mu_D,3)\n",
    "\n",
    "SD_D = df['Difference'].std()\n",
    "SD_D = round(SD_D,3)\n",
    "print('mean of difference: {}\\nStandard Daviation of difference: {}'.format(mu_D, SD_D))"
   ]
  },
  {
   "cell_type": "markdown",
   "metadata": {},
   "source": [
    "**Question 4**. ***ovide one or two visualizations that show the distribution of the sample data. Write one or two sentences noting what you observe about the plot or plots.***\n",
    "\n",
    "**Answer**:"
   ]
  },
  {
   "cell_type": "code",
   "execution_count": 71,
   "metadata": {
    "scrolled": true
   },
   "outputs": [
    {
     "data": {
      "image/png": "[encoded data removed]",
      "text/plain": [
       "<matplotlib.figure.Figure at 0x13eb1f21f60>"
      ]
     },
     "metadata": {},
     "output_type": "display_data"
    }
   ],
   "source": [
    "# scatter plot \n",
    "plt.axes([0,0.7,0.7,0.7])\n",
    "sns.stripplot(df.index+1, 'Congruent', data = df, color ='black')\n",
    "plt.ylim(0,36)\n",
    "\n",
    "plt.axes([0.8,0.7,0.7,0.7])\n",
    "sns.stripplot(df.index+1, 'Incongruent', data = df, color ='black')\n",
    "plt.ylim(0,36)\n",
    "\n",
    "plt.show()\n"
   ]
  },
  {
   "cell_type": "code",
   "execution_count": 60,
   "metadata": {
    "scrolled": true
   },
   "outputs": [
    {
     "data": {
      "image/png": "[encoded data removed]",
      "text/plain": [
       "<matplotlib.figure.Figure at 0x13eb22b1da0>"
      ]
     },
     "metadata": {},
     "output_type": "display_data"
    }
   ],
   "source": [
    "# histogram\n",
    "plt.axes([0,0.7,0.7,0.7])\n",
    "sns.distplot(df['Congruent'], bins = 10)\n",
    "plt.axvline(df['Congruent'].mean(), color = 'red', ymin = 0, ymax= 0.5)\n",
    "plt.text(12,0.100, 'mean', color='red')\n",
    "\n",
    "plt.axes([0.8,0.7,0.7,0.7])\n",
    "sns.distplot(df['Incongruent'], bins = 10)\n",
    "plt.axvline(df['Incongruent'].mean(), color = 'red', ymin = 0, ymax = 0.67)\n",
    "plt.text(22, 0.09, 'mean', color='red')\n",
    "plt.show()"
   ]
  },
  {
   "cell_type": "markdown",
   "metadata": {},
   "source": [
    "> In both the conditions `Congruent` and `Incongruent` sample are **normaly distributed**, and in this plot, red line shows the mean value. we can see from these plots that the spread is more for Congruent condition"
   ]
  },
  {
   "cell_type": "code",
   "execution_count": 72,
   "metadata": {
    "scrolled": true
   },
   "outputs": [
    {
     "data": {
      "image/png": "[encoded data removed]",
      "text/plain": [
       "<matplotlib.figure.Figure at 0x13eb1eec470>"
      ]
     },
     "metadata": {},
     "output_type": "display_data"
    }
   ],
   "source": [
    "# boxplot\n",
    "plt.axes([0,0.7,0.7,0.7])\n",
    "sns.boxplot('Congruent', data = df, orient = 'v')\n",
    "plt.xlabel('Congruent')\n",
    "plt.ylabel('time')\n",
    "plt.ylim(0,36)\n",
    "plt.axes([0.8,0.7,0.7,0.7])\n",
    "sns.boxplot('Incongruent', data = df, orient = 'v')\n",
    "plt.xlabel('Incongruent')\n",
    "plt.ylabel('time')\n",
    "plt.ylim(0,36)\n",
    "plt.show()"
   ]
  },
  {
   "cell_type": "markdown",
   "metadata": {},
   "source": [
    "> In better way we can see spread from boxplots, here *more spread* in *Congruent* condition. there are 2 outliers in Incongruent condition "
   ]
  },
  {
   "cell_type": "markdown",
   "metadata": {},
   "source": [
    "**Question 5**. ***Now, perform the statistical test and report your results. What is your confidence level and your critical statistic value? Do you reject the null hypothesis or fail to reject it? Come to a conclusion in terms of the experiment task. Did the results match up with your expectations?***\n",
    "\n",
    "**Answer:** \n",
    ">$\\alpha = 0.05$\n",
    "\n",
    ">$t = \\frac{\\mu_D - 0}{\\frac{SD_D}{\\sqrt n}} = \\frac{\\mu_D - 0}{SE} = 8.021$\n",
    "\n",
    ">(t critical)  $t^*= 2.069$ \n",
    "\n",
    "> for critical t value at $\\alpha$ level see [t-table](https://s3.amazonaws.com/udacity-hosted-downloads/t-table.jpg)\n",
    "\n",
    "> Here $t > t^*$, t value lies **inside** critical region, so we can **Reject the null** hypothesis and it is statistical significant at $\\alpha = 0.05$.\n",
    "\n",
    "> Reject the null because, $p <.05$ \n",
    "\n",
    ">--*Confidence Interval*\n",
    "\n",
    ">CI(95%) = $(5.91,10.02)$\n",
    "\n",
    "\n",
    "> I expacted  before analysis that Incongruent condition will take more time compare to Congruent and there will be difference between the both condition, after the analysis i get that there is significant difference between both the conditions."
   ]
  },
  {
   "cell_type": "code",
   "execution_count": 110,
   "metadata": {},
   "outputs": [
    {
     "data": {
      "text/plain": [
       "8.021"
      ]
     },
     "execution_count": 110,
     "metadata": {},
     "output_type": "execute_result"
    }
   ],
   "source": [
    "# find t and tcritical value for alpha = 0.05, 2 tailed t-test\n",
    "t = mu_D/(SD_D/(n**0.5))\n",
    "t = round(t,3)\n",
    "t"
   ]
  },
  {
   "cell_type": "code",
   "execution_count": 134,
   "metadata": {},
   "outputs": [
    {
     "data": {
      "text/plain": [
       "(5.91, 10.02)"
      ]
     },
     "execution_count": 134,
     "metadata": {},
     "output_type": "execute_result"
    }
   ],
   "source": [
    "#calculate 95% confidence interval\n",
    "lower = mu_D - 2.069 * (SD_D/(n**0.5))\n",
    "upper = mu_D + 2.069 * (SD_D/(n**0.5))\n",
    "(round(lower,3), round(upper,3))"
   ]
  },
  {
   "cell_type": "markdown",
   "metadata": {},
   "source": [
    "## conclusion ##\n",
    "<p>\n",
    "Here we get that $t-statistic > t-critical$ so, **Reject** the null hypothesis which stats that there is no difference in time of completion the task in both the condition (Congruent $ Incongruent).we accept the alternative hapothesis which stats that there is difference in time of completion the task in both the condition, and this difference will vary at alpha =0.05  in between **5.91** to **10.02**.\n",
    "</p>\n"
   ]
  },
  {
   "cell_type": "markdown",
   "metadata": {},
   "source": [
    "**Question 6**: ***Optional: What do you think is responsible for the effects observed? Can you think of an alternative or similar task that would result in a similar effect? Some research about the problem will be helpful for thinking about these two questions!***\n",
    "\n",
    "**Answer**: I think the processing speed of mind, and visual perception is responsible for this effect. human mind takes more time to process the complex thing like differnt color used for in this test for words."
   ]
  },
  {
   "cell_type": "code",
   "execution_count": null,
   "metadata": {
    "collapsed": true
   },
   "outputs": [],
   "source": []
  }
 ],
 "metadata": {
  "kernelspec": {
   "display_name": "Python 3",
   "language": "python",
   "name": "python3"
  },
  "language_info": {
   "codemirror_mode": {
    "name": "ipython",
    "version": 3
   },
   "file_extension": ".py",
   "mimetype": "text/x-python",
   "name": "python",
   "nbconvert_exporter": "python",
   "pygments_lexer": "ipython3",
   "version": "3.6.1"
  }
 },
 "nbformat": 4,
 "nbformat_minor": 2
}
